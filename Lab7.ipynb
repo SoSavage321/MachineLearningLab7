{
  "nbformat": 4,
  "nbformat_minor": 0,
  "metadata": {
    "colab": {
      "provenance": [],
      "authorship_tag": "ABX9TyMTEKSK5aOhJqdSSXAcOu+Q",
      "include_colab_link": true
    },
    "kernelspec": {
      "name": "python3",
      "display_name": "Python 3"
    },
    "language_info": {
      "name": "python"
    }
  },
  "cells": [
    {
      "cell_type": "markdown",
      "metadata": {
        "id": "view-in-github",
        "colab_type": "text"
      },
      "source": [
        "<a href=\"https://colab.research.google.com/github/SoSavage321/MachineLearningLab7/blob/main/Lab7.ipynb\" target=\"_parent\"><img src=\"https://colab.research.google.com/assets/colab-badge.svg\" alt=\"Open In Colab\"/></a>"
      ]
    },
    {
      "cell_type": "markdown",
      "source": [
        "# **Part 1: Implementing a Majority Vote Classifier**"
      ],
      "metadata": {
        "id": "8-Ybgre0Ay_Y"
      }
    },
    {
      "cell_type": "markdown",
      "source": [
        "**Step 1.2: Implement Majority Voting Classifier**"
      ],
      "metadata": {
        "id": "lvnUGKs-BDqw"
      }
    },
    {
      "cell_type": "code",
      "execution_count": 1,
      "metadata": {
        "id": "aUF__Nh_96mu"
      },
      "outputs": [],
      "source": [
        "import numpy as np\n",
        "import pandas as pd\n",
        "from sklearn.base import BaseEstimator, ClassifierMixin, clone\n",
        "from sklearn.preprocessing import LabelEncoder\n",
        "from sklearn.pipeline import _name_estimators\n",
        "\n",
        "class MajorityVoteClassifier(BaseEstimator, ClassifierMixin):\n",
        "    \"\"\"A majority vote ensemble classifier\"\"\"\n",
        "\n",
        "    def __init__(self, classifiers, vote='classlabel', weights=None):\n",
        "        self.classifiers = classifiers\n",
        "        self.named_classifiers = {key: value for key, value in _name_estimators(classifiers)}\n",
        "        self.vote = vote\n",
        "        self.weights = weights\n",
        "\n",
        "    def fit(self, X, y):\n",
        "        \"\"\"Fit classifiers\"\"\"\n",
        "        self.lablenc_ = LabelEncoder()\n",
        "        self.lablenc_.fit(y)\n",
        "        self.classes_ = self.lablenc_.classes_\n",
        "        self.classifiers_ = []\n",
        "        for clf in self.classifiers:\n",
        "            fitted_clf = clone(clf).fit(X, self.lablenc_.transform(y))\n",
        "            self.classifiers_.append(fitted_clf)\n",
        "        return self\n",
        "\n",
        "    def predict(self, X):\n",
        "        \"\"\"Predict class labels\"\"\"\n",
        "        if self.vote == 'probability':\n",
        "            maj_vote = np.argmax(self.predict_proba(X), axis=1)\n",
        "        else:\n",
        "            predictions = np.asarray([clf.predict(X) for clf in self.classifiers_]).T\n",
        "            maj_vote = np.apply_along_axis(\n",
        "                lambda x: np.argmax(np.bincount(x, weights=self.weights)),\n",
        "                axis=1, arr=predictions)\n",
        "        maj_vote = self.lablenc_.inverse_transform(maj_vote)\n",
        "        return maj_vote\n",
        "\n",
        "    def predict_proba(self, X):\n",
        "        \"\"\"Predict class probabilities\"\"\"\n",
        "        probas = np.asarray([clf.predict_proba(X) for clf in self.classifiers_])\n",
        "        avg_proba = np.average(probas, axis=0, weights=self.weights)\n",
        "        return avg_proba\n",
        "\n",
        "    def get_params(self, deep=True):\n",
        "        \"\"\"Get classifier parameter names for GridSearch\"\"\"\n",
        "        if not deep:\n",
        "            return super(MajorityVoteClassifier, self).get_params(deep=False)\n",
        "        else:\n",
        "            out = self.named_classifiers.copy()\n",
        "            for name, step in self.named_classifiers.items():\n",
        "                for key, value in step.get_params(deep=True).items():\n",
        "                    out[f'{name}__{key}'] = value\n",
        "            return out"
      ]
    },
    {
      "cell_type": "markdown",
      "source": [
        "**Step 1.3: Prepare the Iris Dataset**"
      ],
      "metadata": {
        "id": "5PMOcIJLBOX0"
      }
    },
    {
      "cell_type": "code",
      "source": [
        "from sklearn import datasets\n",
        "from sklearn.model_selection import train_test_split\n",
        "from sklearn.preprocessing import StandardScaler, LabelEncoder\n",
        "\n",
        "# Load Iris dataset\n",
        "iris = datasets.load_iris()\n",
        "X, y = iris.data[50:, [1, 2]], iris.target[50:]\n",
        "le = LabelEncoder()\n",
        "y = le.fit_transform(y)\n",
        "\n",
        "# Split into training and test sets\n",
        "X_train, X_test, y_train, y_test = train_test_split(\n",
        "    X, y, test_size=0.3, random_state=1, stratify=y)"
      ],
      "metadata": {
        "id": "nWmalKIY-GdF"
      },
      "execution_count": 2,
      "outputs": []
    },
    {
      "cell_type": "markdown",
      "source": [
        "**Step 1.4: Train Individual Classifiers**"
      ],
      "metadata": {
        "id": "yFHzdR9vBTGL"
      }
    },
    {
      "cell_type": "code",
      "source": [
        "from sklearn.linear_model import LogisticRegression\n",
        "from sklearn.tree import DecisionTreeClassifier\n",
        "from sklearn.neighbors import KNeighborsClassifier\n",
        "from sklearn.pipeline import Pipeline\n",
        "from sklearn.model_selection import cross_val_score\n",
        "from sklearn.model_selection import StratifiedKFold  # Used for consistency\n",
        "\n",
        "# Create individual classifiers\n",
        "clf1 = LogisticRegression(penalty='l2', C=0.001, random_state=1)\n",
        "clf2 = DecisionTreeClassifier(max_depth=1, criterion='entropy', random_state=0)\n",
        "clf3 = KNeighborsClassifier(n_neighbors=1, p=2, metric='minkowski')\n",
        "\n",
        "# Create pipeline with standardization\n",
        "pipe1 = Pipeline([['sc', StandardScaler()], ['clf', clf1]])\n",
        "pipe3 = Pipeline([['sc', StandardScaler()], ['clf', clf3]])\n",
        "\n",
        "clf_labels = ['Logistic regression', 'Decision tree', 'KNN']\n",
        "print('10-fold cross validation:\\n')\n",
        "\n",
        "skf = StratifiedKFold(n_splits=10, shuffle=True, random_state=1)\n",
        "for clf, label in zip([pipe1, clf2, pipe3], clf_labels):\n",
        "    scores = cross_val_score(estimator=clf, X=X_train, y=y_train, cv=skf, scoring='roc_auc')\n",
        "    print(\"ROC AUC: %0.2f (+/- %0.2f) [%s]\" % (scores.mean(), scores.std(), label))"
      ],
      "metadata": {
        "colab": {
          "base_uri": "https://localhost:8080/"
        },
        "id": "ywTbT_9s-Jsj",
        "outputId": "87fbf5c1-2def-408a-d543-8676b92dd78e"
      },
      "execution_count": 3,
      "outputs": [
        {
          "output_type": "stream",
          "name": "stdout",
          "text": [
            "10-fold cross validation:\n",
            "\n",
            "ROC AUC: 0.92 (+/- 0.09) [Logistic regression]\n",
            "ROC AUC: 0.88 (+/- 0.07) [Decision tree]\n",
            "ROC AUC: 0.89 (+/- 0.10) [KNN]\n"
          ]
        }
      ]
    },
    {
      "cell_type": "markdown",
      "source": [
        "**Step 1.5: Create and Evaluate Majority Voting Classifier**"
      ],
      "metadata": {
        "id": "RuIty6sOBfHK"
      }
    },
    {
      "cell_type": "code",
      "source": [
        "from sklearn.metrics import roc_auc_score  # Added to fix NameError\n",
        "\n",
        "# Create majority rule classifier\n",
        "mv_clf = MajorityVoteClassifier(classifiers=[pipe1, clf2, pipe3])\n",
        "clf_labels += ['Majority voting']\n",
        "all_clf = [pipe1, clf2, pipe3, mv_clf]\n",
        "\n",
        "for clf, label in zip(all_clf, clf_labels):\n",
        "    if clf == mv_clf:\n",
        "        # Manual CV for consistency and to avoid NaN in ROC AUC\n",
        "        scores = []\n",
        "        for train_idx, val_idx in skf.split(X_train, y_train):\n",
        "            X_tr, X_val = X_train[train_idx], X_train[val_idx]\n",
        "            y_tr, y_val = y_train[train_idx], y_train[val_idx]\n",
        "            clf_clone = clone(clf)\n",
        "            clf_clone.fit(X_tr, y_tr)\n",
        "            proba_val = clf_clone.predict_proba(X_val)[:, 1]\n",
        "            score = roc_auc_score(y_val, proba_val)\n",
        "            scores.append(score)\n",
        "        print(\"ROC AUC: %0.2f (+/- %0.2f) [%s]\" % (np.mean(scores), np.std(scores), label))\n",
        "    else:\n",
        "        scores = cross_val_score(estimator=clf, X=X_train, y=y_train, cv=skf, scoring='roc_auc')\n",
        "        print(\"ROC AUC: %0.2f (+/- %0.2f) [%s]\" % (scores.mean(), scores.std(), label))"
      ],
      "metadata": {
        "colab": {
          "base_uri": "https://localhost:8080/"
        },
        "id": "0wAqvEQt-MPo",
        "outputId": "be78ea1c-dc7c-4121-c0a1-32df8dd6cfa6"
      },
      "execution_count": 7,
      "outputs": [
        {
          "output_type": "stream",
          "name": "stdout",
          "text": [
            "ROC AUC: 0.92 (+/- 0.09) [Logistic regression]\n",
            "ROC AUC: 0.88 (+/- 0.07) [Decision tree]\n",
            "ROC AUC: 0.89 (+/- 0.10) [KNN]\n",
            "ROC AUC: 0.97 (+/- 0.04) [Majority voting]\n"
          ]
        }
      ]
    },
    {
      "cell_type": "markdown",
      "source": [
        "# **Part 2: Bagging - Building Ensemble from Bootstrap Samples**"
      ],
      "metadata": {
        "id": "oOX1VAxUBphQ"
      }
    },
    {
      "cell_type": "markdown",
      "source": [
        "**Step 2.2: Prepare Wine Dataset**"
      ],
      "metadata": {
        "id": "_-I3sFjLBsjQ"
      }
    },
    {
      "cell_type": "code",
      "source": [
        "from sklearn.datasets import load_wine\n",
        "\n",
        "wine = load_wine()\n",
        "df_wine = pd.DataFrame(wine.data, columns=wine.feature_names)\n",
        "df_wine['Class label'] = wine.target\n",
        "df_wine = df_wine[df_wine['Class label'] != 0]  # Drop class 0 (equiv. to 1 in original)\n",
        "y = df_wine['Class label'].values\n",
        "X = df_wine[['alcohol', 'od280/od315_of_diluted_wines']].values\n",
        "le = LabelEncoder()\n",
        "y = le.fit_transform(y)\n",
        "X_train, X_test, y_train, y_test = train_test_split(X, y, test_size=0.2, random_state=1, stratify=y)"
      ],
      "metadata": {
        "id": "hdhT1131-OYT"
      },
      "execution_count": 8,
      "outputs": []
    },
    {
      "cell_type": "markdown",
      "source": [
        "**Step 2.3: Implement Bagging Classifier**"
      ],
      "metadata": {
        "id": "skeaZmLeB0D8"
      }
    },
    {
      "cell_type": "code",
      "source": [
        "from sklearn.ensemble import BaggingClassifier\n",
        "from sklearn.metrics import accuracy_score\n",
        "\n",
        "# Create decision tree classifier\n",
        "tree = DecisionTreeClassifier(criterion='entropy', random_state=1, max_depth=None)\n",
        "\n",
        "# Train and evaluate individual decision tree\n",
        "tree = tree.fit(X_train, y_train)\n",
        "y_train_pred = tree.predict(X_train)\n",
        "y_test_pred = tree.predict(X_test)\n",
        "tree_train = accuracy_score(y_train, y_train_pred)\n",
        "tree_test = accuracy_score(y_test, y_test_pred)\n",
        "print('Decision tree train/test accuracies %.3f/%.3f' % (tree_train, tree_test))\n",
        "\n",
        "# Create bagging classifier\n",
        "bag = BaggingClassifier(estimator=tree, n_estimators=500,\n",
        "                        max_samples=1.0, max_features=1.0,\n",
        "                        bootstrap=True, bootstrap_features=False,\n",
        "                        n_jobs=1, random_state=1)\n",
        "\n",
        "# Train bagging\n",
        "bag = bag.fit(X_train, y_train)\n",
        "y_train_pred = bag.predict(X_train)\n",
        "y_test_pred = bag.predict(X_test)\n",
        "bag_train = accuracy_score(y_train, y_train_pred)\n",
        "bag_test = accuracy_score(y_test, y_test_pred)\n",
        "print('Bagging train/test accuracies %.3f/%.3f' % (bag_train, bag_test))"
      ],
      "metadata": {
        "colab": {
          "base_uri": "https://localhost:8080/"
        },
        "id": "DSmV6nnTAgbs",
        "outputId": "18a6360b-5b46-4e4a-9da3-47939fd0393c"
      },
      "execution_count": 9,
      "outputs": [
        {
          "output_type": "stream",
          "name": "stdout",
          "text": [
            "Decision tree train/test accuracies 1.000/0.833\n",
            "Bagging train/test accuracies 1.000/0.917\n"
          ]
        }
      ]
    },
    {
      "cell_type": "markdown",
      "source": [
        "**Step 2.4: Visualize Decision Boundaries**"
      ],
      "metadata": {
        "id": "EEbSAUFmB6kz"
      }
    },
    {
      "cell_type": "code",
      "source": [
        "import matplotlib.pyplot as plt\n",
        "\n",
        "# Create mesh grid for plotting\n",
        "x_min = X_train[:, 0].min() - 1\n",
        "x_max = X_train[:, 0].max() + 1\n",
        "y_min = X_train[:, 1].min() - 1\n",
        "y_max = X_train[:, 1].max() + 1\n",
        "xx, yy = np.meshgrid(np.arange(x_min, x_max, 0.1),\n",
        "                     np.arange(y_min, y_max, 0.1))\n",
        "\n",
        "f, axarr = plt.subplots(nrows=1, ncols=2, sharex='col', sharey='row', figsize=(8, 3))\n",
        "\n",
        "for idx, clf, tt in zip([0, 1], [tree, bag], ['Decision tree', 'Bagging']):\n",
        "    clf.fit(X_train, y_train)\n",
        "    Z = clf.predict(np.c_[xx.ravel(), yy.ravel()])\n",
        "    Z = Z.reshape(xx.shape)\n",
        "    axarr[idx].contourf(xx, yy, Z, alpha=0.3)\n",
        "    axarr[idx].scatter(X_train[y_train==0, 0], X_train[y_train==0, 1], c='blue', marker='^')\n",
        "    axarr[idx].scatter(X_train[y_train==1, 0], X_train[y_train==1, 1], c='green', marker='o')\n",
        "    axarr[idx].set_title(tt)\n",
        "\n",
        "axarr[0].set_ylabel('Alcohol', fontsize=12)\n",
        "plt.xlabel('OD280/OD315 of diluted wines', fontsize=12)\n",
        "plt.tight_layout()\n",
        "plt.show()"
      ],
      "metadata": {
        "colab": {
          "base_uri": "https://localhost:8080/",
          "height": 307
        },
        "id": "Sx-Q_EFEAlfW",
        "outputId": "87a11bb3-48c0-4317-83fc-6267153dbdb2"
      },
      "execution_count": 10,
      "outputs": [
        {
          "output_type": "display_data",
          "data": {
            "text/plain": [
              "<Figure size 800x300 with 2 Axes>"
            ],
            "image/png": "[encoded data removed]"
          },
          "metadata": {}
        }
      ]
    },
    {
      "cell_type": "markdown",
      "source": [
        "# **Part 3: Adaptive Boosting (AdaBoost)**"
      ],
      "metadata": {
        "id": "NEsjBgBlCAkL"
      }
    },
    {
      "cell_type": "markdown",
      "source": [
        "**Step 3.2: Implement AdaBoost Classifier**"
      ],
      "metadata": {
        "id": "rJGAAX7GCG6p"
      }
    },
    {
      "cell_type": "code",
      "source": [
        "from sklearn.ensemble import AdaBoostClassifier\n",
        "\n",
        "# Create decision tree stump\n",
        "tree = DecisionTreeClassifier(criterion='entropy', random_state=1, max_depth=1)\n",
        "\n",
        "# Train individual decision tree stump\n",
        "tree = tree.fit(X_train, y_train)\n",
        "y_train_pred = tree.predict(X_train)\n",
        "y_test_pred = tree.predict(X_test)\n",
        "tree_train = accuracy_score(y_train, y_train_pred)\n",
        "tree_test = accuracy_score(y_test, y_test_pred)\n",
        "print('Decision tree stump train/test accuracies %.3f/%.3f' % (tree_train, tree_test))\n",
        "\n",
        "# Create AdaBoost classifier\n",
        "ada = AdaBoostClassifier(estimator=tree, n_estimators=500,\n",
        "                         learning_rate=0.1, random_state=1)\n",
        "\n",
        "# Train AdaBoost classifier\n",
        "ada = ada.fit(X_train, y_train)\n",
        "y_train_pred = ada.predict(X_train)\n",
        "y_test_pred = ada.predict(X_test)\n",
        "ada_train = accuracy_score(y_train, y_train_pred)\n",
        "ada_test = accuracy_score(y_test, y_test_pred)\n",
        "print('AdaBoost train/test accuracies %.3f/%.3f' % (ada_train, ada_test))"
      ],
      "metadata": {
        "colab": {
          "base_uri": "https://localhost:8080/"
        },
        "id": "BhiYrMYyAolQ",
        "outputId": "c9288198-f0ad-440f-e710-665ced9ac083"
      },
      "execution_count": 11,
      "outputs": [
        {
          "output_type": "stream",
          "name": "stdout",
          "text": [
            "Decision tree stump train/test accuracies 0.916/0.875\n",
            "AdaBoost train/test accuracies 0.968/0.917\n"
          ]
        }
      ]
    },
    {
      "cell_type": "markdown",
      "source": [
        "**Step 3.3: Analyze AdaBoost Error Convergence**"
      ],
      "metadata": {
        "id": "6tSPVGT5CQmX"
      }
    },
    {
      "cell_type": "code",
      "source": [
        "# Plot error convergence for AdaBoost\n",
        "ada = AdaBoostClassifier(estimator=DecisionTreeClassifier(max_depth=1, random_state=1),\n",
        "                         n_estimators=500, learning_rate=0.1, random_state=1)\n",
        "\n",
        "ada.fit(X_train, y_train)\n",
        "ada_train_err = []\n",
        "ada_test_err = []\n",
        "\n",
        "for y_train_pred, y_test_pred in zip(ada.staged_predict(X_train), ada.staged_predict(X_test)):\n",
        "    ada_train_err.append(1 - accuracy_score(y_train, y_train_pred))\n",
        "    ada_test_err.append(1 - accuracy_score(y_test, y_test_pred))\n",
        "\n",
        "plt.plot(range(1, len(ada_train_err) + 1), ada_train_err, label='Training error', color='blue', linestyle='-')\n",
        "plt.plot(range(1, len(ada_test_err) + 1), ada_test_err, label='Test error', color='red', linestyle='--')\n",
        "plt.xlabel('Number of boosting iterations')\n",
        "plt.ylabel('Error')\n",
        "plt.legend(loc='upper right')\n",
        "plt.ylim(0, 0.5)\n",
        "plt.title('AdaBoost error convergence')\n",
        "plt.tight_layout()\n",
        "plt.show()"
      ],
      "metadata": {
        "colab": {
          "base_uri": "https://localhost:8080/",
          "height": 487
        },
        "id": "CtiHLAuDArUQ",
        "outputId": "81cf3964-cb86-4dab-c9d9-f8e412c1327a"
      },
      "execution_count": 12,
      "outputs": [
        {
          "output_type": "display_data",
          "data": {
            "text/plain": [
              "<Figure size 640x480 with 1 Axes>"
            ],
            "image/png": "[encoded data removed]"
          },
          "metadata": {}
        }
      ]
    }
  ]
}